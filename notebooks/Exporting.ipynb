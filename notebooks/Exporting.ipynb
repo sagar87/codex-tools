{
 "cells": [
  {
   "cell_type": "markdown",
   "metadata": {},
   "source": [
    "# Exporting Data\n",
    "\n",
    "Once you are happy with your analysis, you will likely want to export the results. The easiest way to do this is by using the `zarr` format, but `csv`, `anndata`, and `spatialdata` are also supported."
   ]
  },
  {
   "cell_type": "code",
   "execution_count": 4,
   "metadata": {},
   "outputs": [
    {
     "data": {
      "text/plain": [
       "<xarray.core.options.set_options at 0x7ffcc3237940>"
      ]
     },
     "execution_count": 4,
     "metadata": {},
     "output_type": "execute_result"
    }
   ],
   "source": [
    "%reload_ext autoreload\n",
    "%autoreload 2\n",
    "\n",
    "import spatial_data\n",
    "import pandas as pd\n",
    "import matplotlib.pyplot as plt\n",
    "import xarray as xr\n",
    "import os\n",
    "import shutil\n",
    "xr.set_options(display_style='text')"
   ]
  },
  {
   "cell_type": "code",
   "execution_count": 2,
   "metadata": {},
   "outputs": [
    {
     "name": "stderr",
     "output_type": "stream",
     "text": [
      "/home/meyerben/meyerben/.conda/envs/spatialproteomics_env/lib/python3.9/site-packages/xarray/backends/plugins.py:159: RuntimeWarning: 'netcdf4' fails while guessing\n",
      "  warnings.warn(f\"{engine!r} fails while guessing\", RuntimeWarning)\n",
      "/home/meyerben/meyerben/.conda/envs/spatialproteomics_env/lib/python3.9/site-packages/xarray/backends/plugins.py:159: RuntimeWarning: 'scipy' fails while guessing\n",
      "  warnings.warn(f\"{engine!r} fails while guessing\", RuntimeWarning)\n"
     ]
    },
    {
     "data": {
      "text/html": [
       "<pre>&lt;xarray.Dataset&gt;\n",
       "Dimensions:        (cells: 12560, channels: 56, y: 3000, x: 3000, labels: 8,\n",
       "                    props: 2, features: 4)\n",
       "Coordinates:\n",
       "  * cells          (cells) int64 1 2 3 4 5 6 ... 12556 12557 12558 12559 12560\n",
       "  * channels       (channels) &lt;U11 &#x27;DAPI&#x27; &#x27;Helios&#x27; &#x27;CD10&#x27; ... &#x27;CD79a&#x27; &#x27;Ki-67&#x27;\n",
       "  * features       (features) &lt;U10 &#x27;centroid-0&#x27; &#x27;centroid-1&#x27; ... &#x27;_original_&#x27;\n",
       "  * labels         (labels) int64 1 2 3 4 5 6 7 8\n",
       "  * props          (props) &lt;U6 &#x27;_color&#x27; &#x27;_name&#x27;\n",
       "  * x              (x) int64 0 1 2 3 4 5 6 ... 2994 2995 2996 2997 2998 2999\n",
       "  * y              (y) int64 0 1 2 3 4 5 6 ... 2994 2995 2996 2997 2998 2999\n",
       "Data variables:\n",
       "    _arcsinh_mean  (cells, channels) float64 3.111 0.0 1.391 ... 1.324 0.4174\n",
       "    _arcsinh_sum   (cells, channels) float64 8.346 0.0 6.564 ... 6.625 5.224\n",
       "    _image         (channels, y, x) uint8 4 4 4 4 5 4 4 3 4 ... 2 2 2 2 2 2 2 2\n",
       "    _labels        (labels, props) object &#x27;C3&#x27; ... &#x27;B (PAX5)&#x27;\n",
       "    _obs           (cells, features) float64 613.3 768.4 4.0 ... 8.0 7.0\n",
       "    _raw_mean      (cells, channels) float64 56.02 0.0 9.426 ... 8.727 2.148\n",
       "    _raw_sum       (cells, channels) float64 1.053e+04 0.0 ... 1.885e+03 464.0\n",
       "    _segmentation  (y, x) int64 0 0 0 0 0 0 0 0 0 0 0 ... 0 0 0 0 0 0 0 0 0 0 0</pre>"
      ],
      "text/plain": [
       "<xarray.Dataset>\n",
       "Dimensions:        (cells: 12560, channels: 56, y: 3000, x: 3000, labels: 8,\n",
       "                    props: 2, features: 4)\n",
       "Coordinates:\n",
       "  * cells          (cells) int64 1 2 3 4 5 6 ... 12556 12557 12558 12559 12560\n",
       "  * channels       (channels) <U11 'DAPI' 'Helios' 'CD10' ... 'CD79a' 'Ki-67'\n",
       "  * features       (features) <U10 'centroid-0' 'centroid-1' ... '_original_'\n",
       "  * labels         (labels) int64 1 2 3 4 5 6 7 8\n",
       "  * props          (props) <U6 '_color' '_name'\n",
       "  * x              (x) int64 0 1 2 3 4 5 6 ... 2994 2995 2996 2997 2998 2999\n",
       "  * y              (y) int64 0 1 2 3 4 5 6 ... 2994 2995 2996 2997 2998 2999\n",
       "Data variables:\n",
       "    _arcsinh_mean  (cells, channels) float64 3.111 0.0 1.391 ... 1.324 0.4174\n",
       "    _arcsinh_sum   (cells, channels) float64 8.346 0.0 6.564 ... 6.625 5.224\n",
       "    _image         (channels, y, x) uint8 4 4 4 4 5 4 4 3 4 ... 2 2 2 2 2 2 2 2\n",
       "    _labels        (labels, props) object 'C3' ... 'B (PAX5)'\n",
       "    _obs           (cells, features) float64 613.3 768.4 4.0 ... 8.0 7.0\n",
       "    _raw_mean      (cells, channels) float64 56.02 0.0 9.426 ... 8.727 2.148\n",
       "    _raw_sum       (cells, channels) float64 1.053e+04 0.0 ... 1.885e+03 464.0\n",
       "    _segmentation  (y, x) int64 0 0 0 0 0 0 0 0 0 0 0 ... 0 0 0 0 0 0 0 0 0 0 0"
      ]
     },
     "execution_count": 2,
     "metadata": {},
     "output_type": "execute_result"
    }
   ],
   "source": [
    "# loading a test file which we will export later\n",
    "# notice how easy it is to load the file from a zarr using xarray\n",
    "ds = xr.load_dataset('../../tests/test_files/test2.zarr')\n",
    "# ds = xr.load_dataset('/g/huber/projects/CITEseq/CODEX/BNHL_TMA/bhnl_labeled_zarr/166_4_I2_LK_labeled.zarr')\n",
    "ds"
   ]
  },
  {
   "cell_type": "markdown",
   "metadata": {},
   "source": [
    "# Zarr\n",
    "This is the easiest file format to work with. It allows you to store and load the xarray objects with a single line of code. \n",
    "\n",
    "In case there are issues with simply running `ds.to_zarr(\"your_path.zarr\")`, you might need to parse the dtypes correctly. This is a [known issue](https://github.com/pydata/xarray/issues/3476) with xarray and will hopefully be fixed soon."
   ]
  },
  {
   "cell_type": "code",
   "execution_count": 8,
   "metadata": {},
   "outputs": [],
   "source": [
    "# parsing as unicode (only necessary if ds.to_zarr() does not work out of the box)\n",
    "for v in list(ds.coords.keys()):\n",
    "    if ds.coords[v].dtype == object:\n",
    "        ds.coords[v] = ds.coords[v].astype(\"unicode\")\n",
    "\n",
    "for v in list(ds.variables.keys()):\n",
    "    if ds[v].dtype == object:\n",
    "        ds[v] = ds[v].astype(\"unicode\")"
   ]
  },
  {
   "cell_type": "code",
   "execution_count": 9,
   "metadata": {},
   "outputs": [
    {
     "data": {
      "text/plain": [
       "<xarray.backends.zarr.ZarrStore at 0x7ffcc2566440>"
      ]
     },
     "execution_count": 9,
     "metadata": {},
     "output_type": "execute_result"
    }
   ],
   "source": [
    "zarr_path = \"tmp.zarr\"\n",
    "\n",
    "# removing the zarr if it exists\n",
    "if os.path.exists(zarr_path):\n",
    "    shutil.rmtree(zarr_path)\n",
    "\n",
    "# exporting as zarr\n",
    "ds.to_zarr(\"tmp.zarr\")"
   ]
  },
  {
   "cell_type": "markdown",
   "metadata": {},
   "source": [
    "# Exporting Tables to CSV\n",
    "Let's say you want to export some tables as csvs. This can be done with pandas."
   ]
  },
  {
   "cell_type": "code",
   "execution_count": 10,
   "metadata": {},
   "outputs": [
    {
     "data": {
      "text/html": [
       "<pre>&lt;xarray.DataArray &#x27;_arcsinh_mean&#x27; (cells: 12560, channels: 56)&gt;\n",
       "array([[3.1113318 , 0.        , 1.39104035, ..., 0.42827631, 0.528275  ,\n",
       "        0.4582596 ],\n",
       "       [2.80498506, 0.        , 1.16832115, ..., 2.02908251, 0.42634428,\n",
       "        0.52842933],\n",
       "       [3.38021961, 0.        , 1.73394497, ..., 0.57174597, 0.72733529,\n",
       "        0.49741472],\n",
       "       ...,\n",
       "       [3.19334124, 0.        , 1.35344852, ..., 0.4051073 , 0.92614581,\n",
       "        0.43286647],\n",
       "       [3.43748239, 0.        , 1.5590982 , ..., 0.43428781, 1.39939674,\n",
       "        0.47313597],\n",
       "       [3.21632852, 0.        , 1.3602909 , ..., 0.39690411, 1.32359853,\n",
       "        0.41740323]])\n",
       "Coordinates:\n",
       "  * cells     (cells) int64 1 2 3 4 5 6 ... 12555 12556 12557 12558 12559 12560\n",
       "  * channels  (channels) &lt;U11 &#x27;DAPI&#x27; &#x27;Helios&#x27; &#x27;CD10&#x27; ... &#x27;CD79a&#x27; &#x27;Ki-67&#x27;</pre>"
      ],
      "text/plain": [
       "<xarray.DataArray '_arcsinh_mean' (cells: 12560, channels: 56)>\n",
       "array([[3.1113318 , 0.        , 1.39104035, ..., 0.42827631, 0.528275  ,\n",
       "        0.4582596 ],\n",
       "       [2.80498506, 0.        , 1.16832115, ..., 2.02908251, 0.42634428,\n",
       "        0.52842933],\n",
       "       [3.38021961, 0.        , 1.73394497, ..., 0.57174597, 0.72733529,\n",
       "        0.49741472],\n",
       "       ...,\n",
       "       [3.19334124, 0.        , 1.35344852, ..., 0.4051073 , 0.92614581,\n",
       "        0.43286647],\n",
       "       [3.43748239, 0.        , 1.5590982 , ..., 0.43428781, 1.39939674,\n",
       "        0.47313597],\n",
       "       [3.21632852, 0.        , 1.3602909 , ..., 0.39690411, 1.32359853,\n",
       "        0.41740323]])\n",
       "Coordinates:\n",
       "  * cells     (cells) int64 1 2 3 4 5 6 ... 12555 12556 12557 12558 12559 12560\n",
       "  * channels  (channels) <U11 'DAPI' 'Helios' 'CD10' ... 'CD79a' 'Ki-67'"
      ]
     },
     "execution_count": 10,
     "metadata": {},
     "output_type": "execute_result"
    }
   ],
   "source": [
    "ds[\"_arcsinh_mean\"]"
   ]
  },
  {
   "cell_type": "code",
   "execution_count": null,
   "metadata": {},
   "outputs": [],
   "source": []
  }
 ],
 "metadata": {
  "kernelspec": {
   "display_name": "spatialproteomics_env",
   "language": "python",
   "name": "python3"
  },
  "language_info": {
   "codemirror_mode": {
    "name": "ipython",
    "version": 3
   },
   "file_extension": ".py",
   "mimetype": "text/x-python",
   "name": "python",
   "nbconvert_exporter": "python",
   "pygments_lexer": "ipython3",
   "version": "3.9.18"
  }
 },
 "nbformat": 4,
 "nbformat_minor": 2
}
