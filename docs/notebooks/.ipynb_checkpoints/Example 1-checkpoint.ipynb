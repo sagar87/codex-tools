{
 "cells": [
  {
   "cell_type": "markdown",
   "id": "e2df0ca2-f61d-4336-ba4c-abb4810b4372",
   "metadata": {},
   "source": [
    "# Importing data to CODEX tools"
   ]
  },
  {
   "cell_type": "code",
   "execution_count": 3,
   "id": "b048c57b-5990-4aad-92b3-b33532aa5171",
   "metadata": {},
   "outputs": [],
   "source": [
    "import sys\n",
    "sys.path.append('/home/voehring/voehring/notebooks/codex-tools')"
   ]
  },
  {
   "cell_type": "code",
   "execution_count": 5,
   "id": "af90b58a-0dc7-4c64-8839-7e87fc706fc0",
   "metadata": {},
   "outputs": [],
   "source": [
    "from skimage.io import imread\n",
    "import codex_tools as cd"
   ]
  },
  {
   "cell_type": "markdown",
   "id": "598c8966-9b8f-43dc-bc2b-c38a07243af0",
   "metadata": {},
   "source": [
    "* We assume that our data comes in form of a `tiff` files. To read them into our session we use `skimage` imread function."
   ]
  },
  {
   "cell_type": "code",
   "execution_count": 7,
   "id": "68dd0f5c-16c6-461a-b116-c3d25c11235e",
   "metadata": {},
   "outputs": [],
   "source": [
    "test_image = imread('../../tests/test_files/input.tiff')"
   ]
  },
  {
   "cell_type": "markdown",
   "id": "44f25306-ee78-4471-bb85-751036ecf167",
   "metadata": {},
   "source": [
    "* By inspecting the `shape` of our image we see that it contains 5 channels."
   ]
  },
  {
   "cell_type": "code",
   "execution_count": 9,
   "id": "f1a12dc1-3045-4fde-931e-4b8a049928eb",
   "metadata": {},
   "outputs": [
    {
     "data": {
      "text/plain": [
       "(5, 500, 500)"
      ]
     },
     "execution_count": 9,
     "metadata": {},
     "output_type": "execute_result"
    }
   ],
   "source": [
    "test_image.shape"
   ]
  },
  {
   "cell_type": "markdown",
   "id": "da072b2a-259f-4dae-8060-4ad7616b8e4a",
   "metadata": {},
   "source": [
    "* In order to work `codex-tools` pass the image along with a list that is descriptive for each channel of the image. In our case this looks as follows."
   ]
  },
  {
   "cell_type": "code",
   "execution_count": 11,
   "id": "306a4717-fa1d-4f53-b888-cc253b9ee741",
   "metadata": {},
   "outputs": [],
   "source": [
    "codex = cd.load_image_data(test_image, ['Hoechst', 'CD4', 'CD8', 'FOXP3', 'BCL6'])"
   ]
  },
  {
   "cell_type": "code",
   "execution_count": null,
   "id": "c79fc559-9704-4c38-a521-484ab37d0b26",
   "metadata": {},
   "outputs": [],
   "source": []
  }
 ],
 "metadata": {
  "kernelspec": {
   "display_name": "scanpy",
   "language": "python",
   "name": "scanpy"
  },
  "language_info": {
   "codemirror_mode": {
    "name": "ipython",
    "version": 3
   },
   "file_extension": ".py",
   "mimetype": "text/x-python",
   "name": "python",
   "nbconvert_exporter": "python",
   "pygments_lexer": "ipython3",
   "version": "3.8.6"
  }
 },
 "nbformat": 4,
 "nbformat_minor": 5
}
