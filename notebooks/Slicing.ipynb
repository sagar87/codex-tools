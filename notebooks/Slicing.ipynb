{
 "cells": [
  {
   "cell_type": "markdown",
   "id": "b539ec69-af48-4780-9ab4-0dddc6755e33",
   "metadata": {},
   "source": [
    "# Slicing"
   ]
  },
  {
   "cell_type": "code",
   "execution_count": 3,
   "id": "010937e5-9ecd-41f7-8be3-0e489a3bf786",
   "metadata": {},
   "outputs": [
    {
     "data": {
      "text/plain": [
       "<xarray.core.options.set_options at 0x7fd18a1534d0>"
      ]
     },
     "execution_count": 3,
     "metadata": {},
     "output_type": "execute_result"
    }
   ],
   "source": [
    "import spatialproteomics\n",
    "import pandas as pd\n",
    "import xarray as xr\n",
    "xr.set_options(display_style='text')"
   ]
  },
  {
   "cell_type": "markdown",
   "id": "d0c0428c-6879-4cbd-8e19-1fa3039d16f6",
   "metadata": {},
   "source": [
    "One of the key features of `spatialproteomics` is the ability to slice our image data quickly and intuitively. We start by loading our _spatialproteomics_ object."
   ]
  },
  {
   "cell_type": "code",
   "execution_count": 7,
   "id": "b563d01d-8498-4749-b532-9ca2a6e309c4",
   "metadata": {},
   "outputs": [
    {
     "name": "stderr",
     "output_type": "stream",
     "text": [
      "/home/voehring/voehring/conda/pymc_env/lib/python3.11/site-packages/xarray/backends/plugins.py:139: RuntimeWarning: 'h5netcdf' fails while guessing\n",
      "  warnings.warn(f\"{engine!r} fails while guessing\", RuntimeWarning)\n",
      "/home/voehring/voehring/conda/pymc_env/lib/python3.11/site-packages/xarray/backends/plugins.py:139: RuntimeWarning: 'scipy' fails while guessing\n",
      "  warnings.warn(f\"{engine!r} fails while guessing\", RuntimeWarning)\n"
     ]
    }
   ],
   "source": [
    "ds = xr.load_dataset('../../data/BNHL_166_4_I2_LK.zarr')"
   ]
  },
  {
   "cell_type": "markdown",
   "id": "f4f44d5b-255d-47e6-b275-c0f36d20039b",
   "metadata": {},
   "source": [
    "## Slicing channels and x, y coordinates\n",
    "\n",
    "To slice specific channels of the image we simply use `.pp` accessor together with the familiar bracket `[]` indexing."
   ]
  },
  {
   "cell_type": "code",
   "execution_count": 8,
   "id": "e7ee6482-5fb0-4862-82dd-b30a2fb10b35",
   "metadata": {},
   "outputs": [
    {
     "data": {
      "text/html": [
       "<pre>&lt;xarray.Dataset&gt;\n",
       "Dimensions:        (cells: 12560, channels: 1, y: 3000, x: 3000, labels: 8,\n",
       "                    props: 2, features: 4)\n",
       "Coordinates:\n",
       "  * cells          (cells) int64 1 2 3 4 5 6 ... 12556 12557 12558 12559 12560\n",
       "  * channels       (channels) &lt;U11 &#x27;CD4&#x27;\n",
       "  * features       (features) &lt;U10 &#x27;centroid-0&#x27; &#x27;centroid-1&#x27; ... &#x27;_original_&#x27;\n",
       "  * labels         (labels) int64 1 2 3 4 5 6 7 8\n",
       "  * props          (props) &lt;U6 &#x27;_color&#x27; &#x27;_name&#x27;\n",
       "  * x              (x) int64 0 1 2 3 4 5 6 ... 2994 2995 2996 2997 2998 2999\n",
       "  * y              (y) int64 0 1 2 3 4 5 6 ... 2994 2995 2996 2997 2998 2999\n",
       "Data variables:\n",
       "    _arcsinh_mean  (cells, channels) float64 2.473 1.98 2.647 ... 2.113 1.923\n",
       "    _arcsinh_sum   (cells, channels) float64 7.703 7.224 7.812 ... 7.55 7.277\n",
       "    _image         (channels, y, x) uint8 1 1 2 0 0 0 0 1 1 ... 1 1 0 0 0 0 1 0\n",
       "    _labels        (labels, props) object &#x27;C3&#x27; ... &#x27;B (PAX5)&#x27;\n",
       "    _obs           (cells, features) float64 613.3 768.4 4.0 ... 8.0 7.0\n",
       "    _raw_mean      (cells, channels) float64 29.45 17.77 35.1 ... 20.39 16.75\n",
       "    _raw_sum       (cells, channels) float64 5.536e+03 3.429e+03 ... 3.617e+03\n",
       "    _segmentation  (y, x) int64 0 0 0 0 0 0 0 0 0 0 0 ... 0 0 0 0 0 0 0 0 0 0 0</pre>"
      ],
      "text/plain": [
       "<xarray.Dataset>\n",
       "Dimensions:        (cells: 12560, channels: 1, y: 3000, x: 3000, labels: 8,\n",
       "                    props: 2, features: 4)\n",
       "Coordinates:\n",
       "  * cells          (cells) int64 1 2 3 4 5 6 ... 12556 12557 12558 12559 12560\n",
       "  * channels       (channels) <U11 'CD4'\n",
       "  * features       (features) <U10 'centroid-0' 'centroid-1' ... '_original_'\n",
       "  * labels         (labels) int64 1 2 3 4 5 6 7 8\n",
       "  * props          (props) <U6 '_color' '_name'\n",
       "  * x              (x) int64 0 1 2 3 4 5 6 ... 2994 2995 2996 2997 2998 2999\n",
       "  * y              (y) int64 0 1 2 3 4 5 6 ... 2994 2995 2996 2997 2998 2999\n",
       "Data variables:\n",
       "    _arcsinh_mean  (cells, channels) float64 2.473 1.98 2.647 ... 2.113 1.923\n",
       "    _arcsinh_sum   (cells, channels) float64 7.703 7.224 7.812 ... 7.55 7.277\n",
       "    _image         (channels, y, x) uint8 1 1 2 0 0 0 0 1 1 ... 1 1 0 0 0 0 1 0\n",
       "    _labels        (labels, props) object 'C3' ... 'B (PAX5)'\n",
       "    _obs           (cells, features) float64 613.3 768.4 4.0 ... 8.0 7.0\n",
       "    _raw_mean      (cells, channels) float64 29.45 17.77 35.1 ... 20.39 16.75\n",
       "    _raw_sum       (cells, channels) float64 5.536e+03 3.429e+03 ... 3.617e+03\n",
       "    _segmentation  (y, x) int64 0 0 0 0 0 0 0 0 0 0 0 ... 0 0 0 0 0 0 0 0 0 0 0"
      ]
     },
     "execution_count": 8,
     "metadata": {},
     "output_type": "execute_result"
    }
   ],
   "source": [
    "ds.pp['CD4']"
   ]
  },
  {
   "cell_type": "markdown",
   "id": "8cc22e9c-e281-470e-ac62-c88593a93218",
   "metadata": {},
   "source": [
    "We can also select multiple channels by simply passing a list to the `.pp` accessor. As we will see later, this makes visualising image overlays easy."
   ]
  },
  {
   "cell_type": "code",
   "execution_count": 11,
   "id": "b6419f5b-44ad-4bca-a98d-7e3e3d46c564",
   "metadata": {},
   "outputs": [
    {
     "data": {
      "text/html": [
       "<pre>&lt;xarray.Dataset&gt;\n",
       "Dimensions:        (cells: 12560, channels: 2, y: 3000, x: 3000, labels: 8,\n",
       "                    props: 2, features: 4)\n",
       "Coordinates:\n",
       "  * cells          (cells) int64 1 2 3 4 5 6 ... 12556 12557 12558 12559 12560\n",
       "  * channels       (channels) &lt;U11 &#x27;CD4&#x27; &#x27;CD8&#x27;\n",
       "  * features       (features) &lt;U10 &#x27;centroid-0&#x27; &#x27;centroid-1&#x27; ... &#x27;_original_&#x27;\n",
       "  * labels         (labels) int64 1 2 3 4 5 6 7 8\n",
       "  * props          (props) &lt;U6 &#x27;_color&#x27; &#x27;_name&#x27;\n",
       "  * x              (x) int64 0 1 2 3 4 5 6 ... 2994 2995 2996 2997 2998 2999\n",
       "  * y              (y) int64 0 1 2 3 4 5 6 ... 2994 2995 2996 2997 2998 2999\n",
       "Data variables:\n",
       "    _arcsinh_mean  (cells, channels) float64 2.473 0.7143 1.98 ... 1.923 0.5909\n",
       "    _arcsinh_sum   (cells, channels) float64 7.703 5.677 7.224 ... 7.277 5.6\n",
       "    _image         (channels, y, x) uint8 1 1 2 0 0 0 0 1 1 ... 1 1 2 1 1 1 2 1\n",
       "    _labels        (labels, props) object &#x27;C3&#x27; ... &#x27;B (PAX5)&#x27;\n",
       "    _obs           (cells, features) float64 613.3 768.4 4.0 ... 8.0 7.0\n",
       "    _raw_mean      (cells, channels) float64 29.45 3.883 17.77 ... 16.75 3.13\n",
       "    _raw_sum       (cells, channels) float64 5.536e+03 730.0 ... 3.617e+03 676.0\n",
       "    _segmentation  (y, x) int64 0 0 0 0 0 0 0 0 0 0 0 ... 0 0 0 0 0 0 0 0 0 0 0</pre>"
      ],
      "text/plain": [
       "<xarray.Dataset>\n",
       "Dimensions:        (cells: 12560, channels: 2, y: 3000, x: 3000, labels: 8,\n",
       "                    props: 2, features: 4)\n",
       "Coordinates:\n",
       "  * cells          (cells) int64 1 2 3 4 5 6 ... 12556 12557 12558 12559 12560\n",
       "  * channels       (channels) <U11 'CD4' 'CD8'\n",
       "  * features       (features) <U10 'centroid-0' 'centroid-1' ... '_original_'\n",
       "  * labels         (labels) int64 1 2 3 4 5 6 7 8\n",
       "  * props          (props) <U6 '_color' '_name'\n",
       "  * x              (x) int64 0 1 2 3 4 5 6 ... 2994 2995 2996 2997 2998 2999\n",
       "  * y              (y) int64 0 1 2 3 4 5 6 ... 2994 2995 2996 2997 2998 2999\n",
       "Data variables:\n",
       "    _arcsinh_mean  (cells, channels) float64 2.473 0.7143 1.98 ... 1.923 0.5909\n",
       "    _arcsinh_sum   (cells, channels) float64 7.703 5.677 7.224 ... 7.277 5.6\n",
       "    _image         (channels, y, x) uint8 1 1 2 0 0 0 0 1 1 ... 1 1 2 1 1 1 2 1\n",
       "    _labels        (labels, props) object 'C3' ... 'B (PAX5)'\n",
       "    _obs           (cells, features) float64 613.3 768.4 4.0 ... 8.0 7.0\n",
       "    _raw_mean      (cells, channels) float64 29.45 3.883 17.77 ... 16.75 3.13\n",
       "    _raw_sum       (cells, channels) float64 5.536e+03 730.0 ... 3.617e+03 676.0\n",
       "    _segmentation  (y, x) int64 0 0 0 0 0 0 0 0 0 0 0 ... 0 0 0 0 0 0 0 0 0 0 0"
      ]
     },
     "execution_count": 11,
     "metadata": {},
     "output_type": "execute_result"
    }
   ],
   "source": [
    "ds.pp[['CD4', 'CD8']]"
   ]
  },
  {
   "cell_type": "markdown",
   "id": "c4887ea9-5b2a-4ddf-b1f3-ea2a3a99949b",
   "metadata": {},
   "source": [
    "The `.pp` accessor also understands `x` and `y` coordinates. When `x` and `y` coordinates are sliced, we get ridd of all cells that do not belong to the respective image slice."
   ]
  },
  {
   "cell_type": "code",
   "execution_count": 12,
   "id": "a76c4712-66aa-41d0-92a6-c9b7a7cd1235",
   "metadata": {},
   "outputs": [
    {
     "name": "stderr",
     "output_type": "stream",
     "text": [
      "Dropped 12560 cells.\n"
     ]
    },
    {
     "data": {
      "text/html": [
       "<pre>&lt;xarray.Dataset&gt;\n",
       "Dimensions:        (cells: 0, channels: 56, y: 101, x: 101, labels: 8,\n",
       "                    props: 2, features: 4)\n",
       "Coordinates:\n",
       "  * cells          (cells) int64 \n",
       "  * channels       (channels) &lt;U11 &#x27;DAPI&#x27; &#x27;Helios&#x27; &#x27;CD10&#x27; ... &#x27;CD79a&#x27; &#x27;Ki-67&#x27;\n",
       "  * features       (features) &lt;U10 &#x27;centroid-0&#x27; &#x27;centroid-1&#x27; ... &#x27;_original_&#x27;\n",
       "  * labels         (labels) int64 1 2 3 4 5 6 7 8\n",
       "  * props          (props) &lt;U6 &#x27;_color&#x27; &#x27;_name&#x27;\n",
       "  * x              (x) int64 50 51 52 53 54 55 56 ... 145 146 147 148 149 150\n",
       "  * y              (y) int64 50 51 52 53 54 55 56 ... 145 146 147 148 149 150\n",
       "Data variables:\n",
       "    _arcsinh_mean  (cells, channels) float64 \n",
       "    _arcsinh_sum   (cells, channels) float64 \n",
       "    _image         (channels, y, x) uint8 5 4 5 4 5 4 5 4 4 ... 2 2 2 1 2 2 2 2\n",
       "    _labels        (labels, props) object &#x27;C3&#x27; ... &#x27;B (PAX5)&#x27;\n",
       "    _obs           (cells, features) float64 \n",
       "    _raw_mean      (cells, channels) float64 \n",
       "    _raw_sum       (cells, channels) float64 \n",
       "    _segmentation  (y, x) int64 0 0 0 0 0 0 0 0 0 0 0 ... 0 0 0 0 0 0 0 0 0 0 0</pre>"
      ],
      "text/plain": [
       "<xarray.Dataset>\n",
       "Dimensions:        (cells: 0, channels: 56, y: 101, x: 101, labels: 8,\n",
       "                    props: 2, features: 4)\n",
       "Coordinates:\n",
       "  * cells          (cells) int64 \n",
       "  * channels       (channels) <U11 'DAPI' 'Helios' 'CD10' ... 'CD79a' 'Ki-67'\n",
       "  * features       (features) <U10 'centroid-0' 'centroid-1' ... '_original_'\n",
       "  * labels         (labels) int64 1 2 3 4 5 6 7 8\n",
       "  * props          (props) <U6 '_color' '_name'\n",
       "  * x              (x) int64 50 51 52 53 54 55 56 ... 145 146 147 148 149 150\n",
       "  * y              (y) int64 50 51 52 53 54 55 56 ... 145 146 147 148 149 150\n",
       "Data variables:\n",
       "    _arcsinh_mean  (cells, channels) float64 \n",
       "    _arcsinh_sum   (cells, channels) float64 \n",
       "    _image         (channels, y, x) uint8 5 4 5 4 5 4 5 4 4 ... 2 2 2 1 2 2 2 2\n",
       "    _labels        (labels, props) object 'C3' ... 'B (PAX5)'\n",
       "    _obs           (cells, features) float64 \n",
       "    _raw_mean      (cells, channels) float64 \n",
       "    _raw_sum       (cells, channels) float64 \n",
       "    _segmentation  (y, x) int64 0 0 0 0 0 0 0 0 0 0 0 ... 0 0 0 0 0 0 0 0 0 0 0"
      ]
     },
     "execution_count": 12,
     "metadata": {},
     "output_type": "execute_result"
    }
   ],
   "source": [
    "ds.pp[50:150, 50:150]"
   ]
  },
  {
   "cell_type": "markdown",
   "id": "dd95a3a9-1089-4680-9eb4-056e64637adb",
   "metadata": {},
   "source": [
    "Note that we can also pass `channels` and `x, y` coordinates at the same time."
   ]
  },
  {
   "cell_type": "code",
   "execution_count": 13,
   "id": "635678d6-1c07-4f25-b27f-704fbc67c363",
   "metadata": {},
   "outputs": [
    {
     "name": "stderr",
     "output_type": "stream",
     "text": [
      "Dropped 12560 cells.\n"
     ]
    },
    {
     "data": {
      "text/html": [
       "<pre>&lt;xarray.Dataset&gt;\n",
       "Dimensions:        (cells: 0, channels: 2, y: 101, x: 101, labels: 8, props: 2,\n",
       "                    features: 4)\n",
       "Coordinates:\n",
       "  * cells          (cells) int64 \n",
       "  * channels       (channels) &lt;U11 &#x27;CD4&#x27; &#x27;CD8&#x27;\n",
       "  * features       (features) &lt;U10 &#x27;centroid-0&#x27; &#x27;centroid-1&#x27; ... &#x27;_original_&#x27;\n",
       "  * labels         (labels) int64 1 2 3 4 5 6 7 8\n",
       "  * props          (props) &lt;U6 &#x27;_color&#x27; &#x27;_name&#x27;\n",
       "  * x              (x) int64 50 51 52 53 54 55 56 ... 145 146 147 148 149 150\n",
       "  * y              (y) int64 50 51 52 53 54 55 56 ... 145 146 147 148 149 150\n",
       "Data variables:\n",
       "    _arcsinh_mean  (cells, channels) float64 \n",
       "    _arcsinh_sum   (cells, channels) float64 \n",
       "    _image         (channels, y, x) uint8 0 0 0 0 0 0 1 1 0 ... 2 1 1 1 1 1 4 1\n",
       "    _labels        (labels, props) object &#x27;C3&#x27; ... &#x27;B (PAX5)&#x27;\n",
       "    _obs           (cells, features) float64 \n",
       "    _raw_mean      (cells, channels) float64 \n",
       "    _raw_sum       (cells, channels) float64 \n",
       "    _segmentation  (y, x) int64 0 0 0 0 0 0 0 0 0 0 0 ... 0 0 0 0 0 0 0 0 0 0 0</pre>"
      ],
      "text/plain": [
       "<xarray.Dataset>\n",
       "Dimensions:        (cells: 0, channels: 2, y: 101, x: 101, labels: 8, props: 2,\n",
       "                    features: 4)\n",
       "Coordinates:\n",
       "  * cells          (cells) int64 \n",
       "  * channels       (channels) <U11 'CD4' 'CD8'\n",
       "  * features       (features) <U10 'centroid-0' 'centroid-1' ... '_original_'\n",
       "  * labels         (labels) int64 1 2 3 4 5 6 7 8\n",
       "  * props          (props) <U6 '_color' '_name'\n",
       "  * x              (x) int64 50 51 52 53 54 55 56 ... 145 146 147 148 149 150\n",
       "  * y              (y) int64 50 51 52 53 54 55 56 ... 145 146 147 148 149 150\n",
       "Data variables:\n",
       "    _arcsinh_mean  (cells, channels) float64 \n",
       "    _arcsinh_sum   (cells, channels) float64 \n",
       "    _image         (channels, y, x) uint8 0 0 0 0 0 0 1 1 0 ... 2 1 1 1 1 1 4 1\n",
       "    _labels        (labels, props) object 'C3' ... 'B (PAX5)'\n",
       "    _obs           (cells, features) float64 \n",
       "    _raw_mean      (cells, channels) float64 \n",
       "    _raw_sum       (cells, channels) float64 \n",
       "    _segmentation  (y, x) int64 0 0 0 0 0 0 0 0 0 0 0 ... 0 0 0 0 0 0 0 0 0 0 0"
      ]
     },
     "execution_count": 13,
     "metadata": {},
     "output_type": "execute_result"
    }
   ],
   "source": [
    "ds.pp[['CD4', 'CD8'], 50:150, 50:150]"
   ]
  },
  {
   "cell_type": "markdown",
   "id": "a795cf6b-e946-4471-8baa-765a0728ce44",
   "metadata": {},
   "source": [
    "## Slicing labels\n",
    "\n",
    "The labels accessor `.la` allows to select specific cell types by their label number or name."
   ]
  },
  {
   "cell_type": "code",
   "execution_count": 14,
   "id": "11388747-b1b0-4606-b761-24661b56609b",
   "metadata": {},
   "outputs": [
    {
     "data": {
      "text/html": [
       "<pre>&lt;xarray.Dataset&gt;\n",
       "Dimensions:        (cells: 5891, channels: 56, y: 3000, x: 3000, labels: 1,\n",
       "                    props: 2, features: 4)\n",
       "Coordinates:\n",
       "  * cells          (cells) int64 1 4 8 10 12 ... 12444 12469 12473 12505 12522\n",
       "  * channels       (channels) &lt;U11 &#x27;DAPI&#x27; &#x27;Helios&#x27; &#x27;CD10&#x27; ... &#x27;CD79a&#x27; &#x27;Ki-67&#x27;\n",
       "  * features       (features) &lt;U10 &#x27;centroid-0&#x27; &#x27;centroid-1&#x27; ... &#x27;_original_&#x27;\n",
       "  * labels         (labels) int64 4\n",
       "  * props          (props) &lt;U6 &#x27;_color&#x27; &#x27;_name&#x27;\n",
       "  * x              (x) int64 0 1 2 3 4 5 6 ... 2994 2995 2996 2997 2998 2999\n",
       "  * y              (y) int64 0 1 2 3 4 5 6 ... 2994 2995 2996 2997 2998 2999\n",
       "Data variables:\n",
       "    _arcsinh_mean  (cells, channels) float64 3.111 0.0 1.391 ... 0.9208 0.4512\n",
       "    _arcsinh_sum   (cells, channels) float64 8.346 0.0 6.564 ... 4.93 5.817 5.0\n",
       "    _image         (channels, y, x) uint8 4 4 4 4 5 4 4 3 4 ... 2 2 2 2 2 2 2 2\n",
       "    _labels        (labels, props) object &#x27;C0&#x27; &#x27;T (CD3)&#x27;\n",
       "    _obs           (cells, features) float64 613.3 768.4 4.0 ... 4.0 3.0\n",
       "    _raw_mean      (cells, channels) float64 56.02 0.0 9.426 ... 5.283 2.333\n",
       "    _raw_sum       (cells, channels) float64 1.053e+04 0.0 ... 840.0 371.0\n",
       "    _segmentation  (y, x) int64 0 0 0 0 0 0 0 0 0 0 0 ... 0 0 0 0 0 0 0 0 0 0 0</pre>"
      ],
      "text/plain": [
       "<xarray.Dataset>\n",
       "Dimensions:        (cells: 5891, channels: 56, y: 3000, x: 3000, labels: 1,\n",
       "                    props: 2, features: 4)\n",
       "Coordinates:\n",
       "  * cells          (cells) int64 1 4 8 10 12 ... 12444 12469 12473 12505 12522\n",
       "  * channels       (channels) <U11 'DAPI' 'Helios' 'CD10' ... 'CD79a' 'Ki-67'\n",
       "  * features       (features) <U10 'centroid-0' 'centroid-1' ... '_original_'\n",
       "  * labels         (labels) int64 4\n",
       "  * props          (props) <U6 '_color' '_name'\n",
       "  * x              (x) int64 0 1 2 3 4 5 6 ... 2994 2995 2996 2997 2998 2999\n",
       "  * y              (y) int64 0 1 2 3 4 5 6 ... 2994 2995 2996 2997 2998 2999\n",
       "Data variables:\n",
       "    _arcsinh_mean  (cells, channels) float64 3.111 0.0 1.391 ... 0.9208 0.4512\n",
       "    _arcsinh_sum   (cells, channels) float64 8.346 0.0 6.564 ... 4.93 5.817 5.0\n",
       "    _image         (channels, y, x) uint8 4 4 4 4 5 4 4 3 4 ... 2 2 2 2 2 2 2 2\n",
       "    _labels        (labels, props) object 'C0' 'T (CD3)'\n",
       "    _obs           (cells, features) float64 613.3 768.4 4.0 ... 4.0 3.0\n",
       "    _raw_mean      (cells, channels) float64 56.02 0.0 9.426 ... 5.283 2.333\n",
       "    _raw_sum       (cells, channels) float64 1.053e+04 0.0 ... 840.0 371.0\n",
       "    _segmentation  (y, x) int64 0 0 0 0 0 0 0 0 0 0 0 ... 0 0 0 0 0 0 0 0 0 0 0"
      ]
     },
     "execution_count": 14,
     "metadata": {},
     "output_type": "execute_result"
    }
   ],
   "source": [
    "ds.la[4]"
   ]
  },
  {
   "cell_type": "code",
   "execution_count": 17,
   "id": "76a4352d-3ddd-4c95-8dd0-ee97f2827e58",
   "metadata": {
    "tags": []
   },
   "outputs": [
    {
     "data": {
      "text/html": [
       "<pre>&lt;xarray.Dataset&gt;\n",
       "Dimensions:        (cells: 5891, channels: 56, y: 3000, x: 3000, labels: 1,\n",
       "                    props: 2, features: 4)\n",
       "Coordinates:\n",
       "  * cells          (cells) int64 1 4 8 10 12 ... 12444 12469 12473 12505 12522\n",
       "  * channels       (channels) &lt;U11 &#x27;DAPI&#x27; &#x27;Helios&#x27; &#x27;CD10&#x27; ... &#x27;CD79a&#x27; &#x27;Ki-67&#x27;\n",
       "  * features       (features) &lt;U10 &#x27;centroid-0&#x27; &#x27;centroid-1&#x27; ... &#x27;_original_&#x27;\n",
       "  * labels         (labels) int64 4\n",
       "  * props          (props) &lt;U6 &#x27;_color&#x27; &#x27;_name&#x27;\n",
       "  * x              (x) int64 0 1 2 3 4 5 6 ... 2994 2995 2996 2997 2998 2999\n",
       "  * y              (y) int64 0 1 2 3 4 5 6 ... 2994 2995 2996 2997 2998 2999\n",
       "Data variables:\n",
       "    _arcsinh_mean  (cells, channels) float64 3.111 0.0 1.391 ... 0.9208 0.4512\n",
       "    _arcsinh_sum   (cells, channels) float64 8.346 0.0 6.564 ... 4.93 5.817 5.0\n",
       "    _image         (channels, y, x) uint8 4 4 4 4 5 4 4 3 4 ... 2 2 2 2 2 2 2 2\n",
       "    _labels        (labels, props) object &#x27;C0&#x27; &#x27;T (CD3)&#x27;\n",
       "    _obs           (cells, features) float64 613.3 768.4 4.0 ... 4.0 3.0\n",
       "    _raw_mean      (cells, channels) float64 56.02 0.0 9.426 ... 5.283 2.333\n",
       "    _raw_sum       (cells, channels) float64 1.053e+04 0.0 ... 840.0 371.0\n",
       "    _segmentation  (y, x) int64 0 0 0 0 0 0 0 0 0 0 0 ... 0 0 0 0 0 0 0 0 0 0 0</pre>"
      ],
      "text/plain": [
       "<xarray.Dataset>\n",
       "Dimensions:        (cells: 5891, channels: 56, y: 3000, x: 3000, labels: 1,\n",
       "                    props: 2, features: 4)\n",
       "Coordinates:\n",
       "  * cells          (cells) int64 1 4 8 10 12 ... 12444 12469 12473 12505 12522\n",
       "  * channels       (channels) <U11 'DAPI' 'Helios' 'CD10' ... 'CD79a' 'Ki-67'\n",
       "  * features       (features) <U10 'centroid-0' 'centroid-1' ... '_original_'\n",
       "  * labels         (labels) int64 4\n",
       "  * props          (props) <U6 '_color' '_name'\n",
       "  * x              (x) int64 0 1 2 3 4 5 6 ... 2994 2995 2996 2997 2998 2999\n",
       "  * y              (y) int64 0 1 2 3 4 5 6 ... 2994 2995 2996 2997 2998 2999\n",
       "Data variables:\n",
       "    _arcsinh_mean  (cells, channels) float64 3.111 0.0 1.391 ... 0.9208 0.4512\n",
       "    _arcsinh_sum   (cells, channels) float64 8.346 0.0 6.564 ... 4.93 5.817 5.0\n",
       "    _image         (channels, y, x) uint8 4 4 4 4 5 4 4 3 4 ... 2 2 2 2 2 2 2 2\n",
       "    _labels        (labels, props) object 'C0' 'T (CD3)'\n",
       "    _obs           (cells, features) float64 613.3 768.4 4.0 ... 4.0 3.0\n",
       "    _raw_mean      (cells, channels) float64 56.02 0.0 9.426 ... 5.283 2.333\n",
       "    _raw_sum       (cells, channels) float64 1.053e+04 0.0 ... 840.0 371.0\n",
       "    _segmentation  (y, x) int64 0 0 0 0 0 0 0 0 0 0 0 ... 0 0 0 0 0 0 0 0 0 0 0"
      ]
     },
     "execution_count": 17,
     "metadata": {},
     "output_type": "execute_result"
    }
   ],
   "source": [
    "ds.la['T (CD3)']"
   ]
  },
  {
   "cell_type": "markdown",
   "id": "c46a7e69-1ed1-47b3-b7f1-9fdbe21aed19",
   "metadata": {},
   "source": [
    "Again it is possible to pass multiple cell labels."
   ]
  },
  {
   "cell_type": "code",
   "execution_count": 15,
   "id": "97c4dd3a-cb35-4cb4-a797-2464904cc908",
   "metadata": {},
   "outputs": [
    {
     "data": {
      "text/html": [
       "<pre>&lt;xarray.Dataset&gt;\n",
       "Dimensions:        (cells: 7806, channels: 56, y: 3000, x: 3000, labels: 3,\n",
       "                    props: 2, features: 4)\n",
       "Coordinates:\n",
       "  * cells          (cells) int64 1 2 4 5 6 8 ... 12531 12536 12540 12549 12557\n",
       "  * channels       (channels) &lt;U11 &#x27;DAPI&#x27; &#x27;Helios&#x27; &#x27;CD10&#x27; ... &#x27;CD79a&#x27; &#x27;Ki-67&#x27;\n",
       "  * features       (features) &lt;U10 &#x27;centroid-0&#x27; &#x27;centroid-1&#x27; ... &#x27;_original_&#x27;\n",
       "  * labels         (labels) int64 4 5 6\n",
       "  * props          (props) &lt;U6 &#x27;_color&#x27; &#x27;_name&#x27;\n",
       "  * x              (x) int64 0 1 2 3 4 5 6 ... 2994 2995 2996 2997 2998 2999\n",
       "  * y              (y) int64 0 1 2 3 4 5 6 ... 2994 2995 2996 2997 2998 2999\n",
       "Data variables:\n",
       "    _arcsinh_mean  (cells, channels) float64 3.111 0.0 1.391 ... 0.2297 0.4495\n",
       "    _arcsinh_sum   (cells, channels) float64 8.346 0.0 6.564 ... 4.208 4.904\n",
       "    _image         (channels, y, x) uint8 4 4 4 4 5 4 4 3 4 ... 2 2 2 2 2 2 2 2\n",
       "    _labels        (labels, props) object &#x27;C0&#x27; &#x27;T (CD3)&#x27; ... &#x27;Macro (CD68)&#x27;\n",
       "    _obs           (cells, features) float64 613.3 768.4 4.0 ... 6.0 5.0\n",
       "    _raw_mean      (cells, channels) float64 56.02 0.0 9.426 ... 1.159 2.324\n",
       "    _raw_sum       (cells, channels) float64 1.053e+04 0.0 ... 168.0 337.0\n",
       "    _segmentation  (y, x) int64 0 0 0 0 0 0 0 0 0 0 0 ... 0 0 0 0 0 0 0 0 0 0 0</pre>"
      ],
      "text/plain": [
       "<xarray.Dataset>\n",
       "Dimensions:        (cells: 7806, channels: 56, y: 3000, x: 3000, labels: 3,\n",
       "                    props: 2, features: 4)\n",
       "Coordinates:\n",
       "  * cells          (cells) int64 1 2 4 5 6 8 ... 12531 12536 12540 12549 12557\n",
       "  * channels       (channels) <U11 'DAPI' 'Helios' 'CD10' ... 'CD79a' 'Ki-67'\n",
       "  * features       (features) <U10 'centroid-0' 'centroid-1' ... '_original_'\n",
       "  * labels         (labels) int64 4 5 6\n",
       "  * props          (props) <U6 '_color' '_name'\n",
       "  * x              (x) int64 0 1 2 3 4 5 6 ... 2994 2995 2996 2997 2998 2999\n",
       "  * y              (y) int64 0 1 2 3 4 5 6 ... 2994 2995 2996 2997 2998 2999\n",
       "Data variables:\n",
       "    _arcsinh_mean  (cells, channels) float64 3.111 0.0 1.391 ... 0.2297 0.4495\n",
       "    _arcsinh_sum   (cells, channels) float64 8.346 0.0 6.564 ... 4.208 4.904\n",
       "    _image         (channels, y, x) uint8 4 4 4 4 5 4 4 3 4 ... 2 2 2 2 2 2 2 2\n",
       "    _labels        (labels, props) object 'C0' 'T (CD3)' ... 'Macro (CD68)'\n",
       "    _obs           (cells, features) float64 613.3 768.4 4.0 ... 6.0 5.0\n",
       "    _raw_mean      (cells, channels) float64 56.02 0.0 9.426 ... 1.159 2.324\n",
       "    _raw_sum       (cells, channels) float64 1.053e+04 0.0 ... 168.0 337.0\n",
       "    _segmentation  (y, x) int64 0 0 0 0 0 0 0 0 0 0 0 ... 0 0 0 0 0 0 0 0 0 0 0"
      ]
     },
     "execution_count": 15,
     "metadata": {},
     "output_type": "execute_result"
    }
   ],
   "source": [
    "ds.la[4, 5, 6]"
   ]
  },
  {
   "cell_type": "markdown",
   "id": "488b5269-d68c-4591-acdf-f2bea2ebb4b8",
   "metadata": {},
   "source": [
    "Finally, we can select all cells except a cell type using `la.deselect`."
   ]
  },
  {
   "cell_type": "code",
   "execution_count": 16,
   "id": "9915a6f9-6c17-48ae-9f76-0a78b41115fc",
   "metadata": {},
   "outputs": [
    {
     "data": {
      "text/html": [
       "<pre>&lt;xarray.Dataset&gt;\n",
       "Dimensions:        (cells: 12391, channels: 56, y: 3000, x: 3000, labels: 7,\n",
       "                    props: 2, features: 4)\n",
       "Coordinates:\n",
       "  * cells          (cells) int64 1 2 3 4 5 6 ... 12556 12557 12558 12559 12560\n",
       "  * channels       (channels) &lt;U11 &#x27;DAPI&#x27; &#x27;Helios&#x27; &#x27;CD10&#x27; ... &#x27;CD79a&#x27; &#x27;Ki-67&#x27;\n",
       "  * features       (features) &lt;U10 &#x27;centroid-0&#x27; &#x27;centroid-1&#x27; ... &#x27;_original_&#x27;\n",
       "  * labels         (labels) int64 2 3 4 5 6 7 8\n",
       "  * props          (props) &lt;U6 &#x27;_color&#x27; &#x27;_name&#x27;\n",
       "  * x              (x) int64 0 1 2 3 4 5 6 ... 2994 2995 2996 2997 2998 2999\n",
       "  * y              (y) int64 0 1 2 3 4 5 6 ... 2994 2995 2996 2997 2998 2999\n",
       "Data variables:\n",
       "    _arcsinh_mean  (cells, channels) float64 3.111 0.0 1.391 ... 1.324 0.4174\n",
       "    _arcsinh_sum   (cells, channels) float64 8.346 0.0 6.564 ... 6.625 5.224\n",
       "    _image         (channels, y, x) uint8 4 4 4 4 5 4 4 3 4 ... 2 2 2 2 2 2 2 2\n",
       "    _labels        (labels, props) object &#x27;C7&#x27; &#x27;Stroma (CD90)&#x27; ... &#x27;B (PAX5)&#x27;\n",
       "    _obs           (cells, features) float64 613.3 768.4 4.0 ... 8.0 7.0\n",
       "    _raw_mean      (cells, channels) float64 56.02 0.0 9.426 ... 8.727 2.148\n",
       "    _raw_sum       (cells, channels) float64 1.053e+04 0.0 ... 1.885e+03 464.0\n",
       "    _segmentation  (y, x) int64 0 0 0 0 0 0 0 0 0 0 0 ... 0 0 0 0 0 0 0 0 0 0 0</pre>"
      ],
      "text/plain": [
       "<xarray.Dataset>\n",
       "Dimensions:        (cells: 12391, channels: 56, y: 3000, x: 3000, labels: 7,\n",
       "                    props: 2, features: 4)\n",
       "Coordinates:\n",
       "  * cells          (cells) int64 1 2 3 4 5 6 ... 12556 12557 12558 12559 12560\n",
       "  * channels       (channels) <U11 'DAPI' 'Helios' 'CD10' ... 'CD79a' 'Ki-67'\n",
       "  * features       (features) <U10 'centroid-0' 'centroid-1' ... '_original_'\n",
       "  * labels         (labels) int64 2 3 4 5 6 7 8\n",
       "  * props          (props) <U6 '_color' '_name'\n",
       "  * x              (x) int64 0 1 2 3 4 5 6 ... 2994 2995 2996 2997 2998 2999\n",
       "  * y              (y) int64 0 1 2 3 4 5 6 ... 2994 2995 2996 2997 2998 2999\n",
       "Data variables:\n",
       "    _arcsinh_mean  (cells, channels) float64 3.111 0.0 1.391 ... 1.324 0.4174\n",
       "    _arcsinh_sum   (cells, channels) float64 8.346 0.0 6.564 ... 6.625 5.224\n",
       "    _image         (channels, y, x) uint8 4 4 4 4 5 4 4 3 4 ... 2 2 2 2 2 2 2 2\n",
       "    _labels        (labels, props) object 'C7' 'Stroma (CD90)' ... 'B (PAX5)'\n",
       "    _obs           (cells, features) float64 613.3 768.4 4.0 ... 8.0 7.0\n",
       "    _raw_mean      (cells, channels) float64 56.02 0.0 9.426 ... 8.727 2.148\n",
       "    _raw_sum       (cells, channels) float64 1.053e+04 0.0 ... 1.885e+03 464.0\n",
       "    _segmentation  (y, x) int64 0 0 0 0 0 0 0 0 0 0 0 ... 0 0 0 0 0 0 0 0 0 0 0"
      ]
     },
     "execution_count": 16,
     "metadata": {},
     "output_type": "execute_result"
    }
   ],
   "source": [
    "ds.la.deselect([1])"
   ]
  }
 ],
 "metadata": {
  "kernelspec": {
   "display_name": "pymc",
   "language": "python",
   "name": "pymc"
  },
  "language_info": {
   "codemirror_mode": {
    "name": "ipython",
    "version": 3
   },
   "file_extension": ".py",
   "mimetype": "text/x-python",
   "name": "python",
   "nbconvert_exporter": "python",
   "pygments_lexer": "ipython3",
   "version": "3.11.3"
  }
 },
 "nbformat": 4,
 "nbformat_minor": 5
}
