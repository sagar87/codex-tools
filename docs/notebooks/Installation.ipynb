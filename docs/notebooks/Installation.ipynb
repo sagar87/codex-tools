{
 "cells": [
  {
   "cell_type": "markdown",
   "metadata": {},
   "source": [
    "# Installation\n",
    "\n",
    "Install `spatialproteomics` with `pip install spatialproteomics`.\n",
    "\n",
    "Note that we do not enforce the installation of external modules, so if you want to use tools such as `cellpose` or `astir`, you need to install them manually."
   ]
  }
 ],
 "metadata": {
  "language_info": {
   "name": "python"
  }
 },
 "nbformat": 4,
 "nbformat_minor": 2
}
